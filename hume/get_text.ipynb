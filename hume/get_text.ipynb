{
 "cells": [
  {
   "cell_type": "code",
   "execution_count": 1,
   "metadata": {},
   "outputs": [],
   "source": [
    "# imports\n",
    "import requests\n",
    "from bs4 import BeautifulSoup"
   ]
  },
  {
   "cell_type": "code",
   "execution_count": null,
   "metadata": {},
   "outputs": [],
   "source": [
    "# get_text function\n",
    "def get_text(url):\n",
    "    response = requests.get(url)\n",
    "    html = response.text\n",
    "    soup = BeautifulSoup(html, 'html.parser')\n",
    "    paras = []\n",
    "    for para in soup.find_all('p'):\n",
    "        text = para.get_text()\n",
    "        paras.append(text)\n",
    "    return ' '.join(paras)"
   ]
  },
  {
   "cell_type": "code",
   "execution_count": null,
   "metadata": {},
   "outputs": [],
   "source": [
    "# urls from the index at https://www.gutenberg.org/files/28884/28884-h/28884-h.htm\n",
    "urls = ['http://www.gutenberg.org/files/19211/19211-h/19211-h.htm',\n",
    "       'http://www.gutenberg.org/files/19212/19212-h/19212-h.htm',\n",
    "       'http://www.gutenberg.org/files/19213/19213-h/19213-h.htm',\n",
    "       'http://www.gutenberg.org/files/19214/19214-h/19214-h.htm',\n",
    "       'http://www.gutenberg.org/files/19215/19215-h/19215-h.htm',\n",
    "       'http://www.gutenberg.org/files/19216/19216-h/19216-h.htm']"
   ]
  },
  {
   "cell_type": "code",
   "execution_count": null,
   "metadata": {},
   "outputs": [],
   "source": [
    "# scrape text\n",
    "file_names = ['1a', '1b', '1c', '1d', '1e', '1f']\n",
    "for url, file_name in zip(urls, file_names):\n",
    "    raw_text = get_text(url)\n",
    "    with open('./raw/' + file_name + '.txt', encoding='utf8', mode='w') as f:\n",
    "        f.write(raw_text)"
   ]
  },
  {
   "cell_type": "markdown",
   "metadata": {},
   "source": [
    "### Divide raw text by chapters\n",
    "Note: This process was primarily manual"
   ]
  },
  {
   "cell_type": "code",
   "execution_count": 1,
   "metadata": {},
   "outputs": [],
   "source": [
    "def find_start_index( raw, start_phrase):\n",
    "    start_index = raw.find(start_phrase)\n",
    "    print(start_index)\n",
    "    \n",
    "    \n",
    "def find_end_index(raw, end_phrase):\n",
    "    end_index = raw.find(end_phrase) + len(end_phrase)\n",
    "    print(end_index)"
   ]
  },
  {
   "cell_type": "code",
   "execution_count": null,
   "metadata": {},
   "outputs": [],
   "source": [
    "path = './raw/1a.txt'\n",
    "with open(path, encoding='utf8', mode='r') as f:\n",
    "    raw_1a = f.read()"
   ]
  },
  {
   "cell_type": "code",
   "execution_count": null,
   "metadata": {},
   "outputs": [],
   "source": [
    "vol_1a = [('hume_history_chap01.txt', raw_1a[32171:158075]),\n",
    "         ('hume_history_chap02.txt', raw_1a[158076:282162]),\n",
    "         ('hume_history_chap03.txt', raw_1a[282163:415007]),\n",
    "         ('hume_history_chap03_app01.txt', raw_1a[415082:477219]),\n",
    "         ('hume_history_chap04.txt', raw_1a[477257:582775]),\n",
    "         ('hume_history_chap05.txt', raw_1a[582833:630410]),\n",
    "         ('hume_history_chap06.txt', raw_1a[630468:708850]),\n",
    "         ('hume_history_chap07.txt', raw_1a[708908:749625]),\n",
    "         ('hume_history_chap08.txt', raw_1a[749683:855692]),\n",
    "         ('hume_history_chap09.txt', raw_1a[855738:948503]),\n",
    "         ('hume_history_chap10.txt', raw_1a[948561:1022656]),\n",
    "         ('hume_history_chap11.txt', raw_1a[1022714:1143506]),\n",
    "         ('hume_history_chap11_app02.txt', raw_1a[1143532:1222486])]"
   ]
  },
  {
   "cell_type": "code",
   "execution_count": null,
   "metadata": {},
   "outputs": [],
   "source": [
    "for t in vol_1a:\n",
    "    file_name = t[0]\n",
    "    text = t[1]\n",
    "    with open('./hume-history-of-england/' + file_name, encoding='utf8', mode='w') as f:\n",
    "        f.write(text)"
   ]
  },
  {
   "cell_type": "code",
   "execution_count": null,
   "metadata": {},
   "outputs": [],
   "source": [
    "path = './raw/1b.txt'\n",
    "with open(path, encoding='utf8', mode='r') as f:\n",
    "    raw_1b = f.read()"
   ]
  },
  {
   "cell_type": "code",
   "execution_count": null,
   "metadata": {},
   "outputs": [],
   "source": [
    "vol_1b =[\n",
    "    ('hume_history_chap12.txt', raw_1b[1425:177275]),\n",
    "    ('hume_history_chap13.txt', raw_1b[177335:360206]),\n",
    "    ('hume_history_chap14.txt', raw_1b[360264:448575]),\n",
    "    ('hume_history_chap15.txt', raw_1b[448633:598868]),\n",
    "    ('hume_history_chap16.txt', raw_1b[598914:705832]),\n",
    "    ('hume_history_chap17.txt', raw_1b[705893:819861]),\n",
    "    ('hume_history_chap18.txt', raw_1b[819919:867008]),\n",
    "    ('hume_history_chap19.txt', raw_1b[867065:941936]),\n",
    "    ('hume_history_chap20.txt', raw_1b[941994:1052556]),\n",
    "    ('hume_history_chap21.txt', raw_1b[1052602:1125474]),\n",
    "    ('hume_history_chap22.txt', raw_1b[1125528:1223280]),\n",
    "    ('hume_history_chap23.txt', raw_1b[1223338:1304446])\n",
    "]"
   ]
  },
  {
   "cell_type": "code",
   "execution_count": 2,
   "metadata": {},
   "outputs": [],
   "source": [
    "def write_files(some_variable):\n",
    "    for t in some_variable:\n",
    "        file_name = t[0]\n",
    "        text = t[1]\n",
    "        with open('./hume-history-of-england/' + file_name, encoding='utf8', mode='w') as f:\n",
    "            f.write(text)\n",
    "    "
   ]
  },
  {
   "cell_type": "code",
   "execution_count": null,
   "metadata": {
    "scrolled": true
   },
   "outputs": [],
   "source": [
    "write_files(vol_1b)"
   ]
  },
  {
   "cell_type": "code",
   "execution_count": null,
   "metadata": {},
   "outputs": [],
   "source": [
    "path = './raw/1c.txt'\n",
    "with open(path, encoding='utf8', mode='r') as f:\n",
    "    raw_1c = f.read()"
   ]
  },
  {
   "cell_type": "code",
   "execution_count": null,
   "metadata": {},
   "outputs": [],
   "source": [
    "vol_1c =[\n",
    "    ('hume_history_chap24.txt', raw_1c[1205:46366]),\n",
    "    ('hume_history_chap25.txt', raw_1c[46392:115664]),\n",
    "    ('hume_history_chap26.txt', raw_1c[115690:183728]),\n",
    "    ('hume_history_chap27.txt', raw_1c[183754:250817]),\n",
    "    ('hume_history_chap28.txt', raw_1c[250851:299551]),\n",
    "    ('hume_history_chap29.txt', raw_1c[299576:382671]),\n",
    "    ('hume_history_chap30.txt', raw_1c[382697:473408]),\n",
    "    ('hume_history_chap31.txt', raw_1c[473434:589306]),\n",
    "    ('hume_history_chap32.txt', raw_1c[589332:660145]),\n",
    "    ('hume_history_chap33.txt', raw_1c[660170:756805]),\n",
    "    ('hume_history_chap34.txt', raw_1c[756839:837823]),\n",
    "    ('hume_history_chap35.txt', raw_1c[837849:909754]),\n",
    "    ('hume_history_chap36.txt', raw_1c[909792:978311]),\n",
    "    ('hume_history_chap37.txt', raw_1c[978337:1059506]),\n",
    "]"
   ]
  },
  {
   "cell_type": "code",
   "execution_count": null,
   "metadata": {},
   "outputs": [],
   "source": [
    "write_files(vol_1c)"
   ]
  },
  {
   "cell_type": "code",
   "execution_count": 44,
   "metadata": {},
   "outputs": [],
   "source": [
    "path = './raw/1d.txt'\n",
    "with open(path, encoding='utf8', mode='r') as f:\n",
    "    raw_1d = f.read()"
   ]
  },
  {
   "cell_type": "code",
   "execution_count": 45,
   "metadata": {},
   "outputs": [],
   "source": [
    "vol_1d =[\n",
    "    ('hume_history_chap38.txt', raw_1d[1149:113090]),\n",
    "    ('hume_history_chap39.txt', raw_1d[113090:267667]),\n",
    "    ('hume_history_chap40.txt', raw_1d[267692:414699]),\n",
    "    ('hume_history_chap41.txt', raw_1d[414724:508914]),\n",
    "    ('hume_history_chap42.txt', raw_1d[508939:640258]),\n",
    "    ('hume_history_chap43.txt', raw_1d[640283:714533]),\n",
    "    ('hume_history_chap44.txt', raw_1d[714558:885292]),\n",
    "    #  appendix?\n",
    "    ('hume_history_chap45.txt', raw_1d[885329:934611]),\n",
    "    ('hume_history_chap46.txt', raw_1d[934636:990112]),\n",
    "    ('hume_history_chap47.txt', raw_1d[990137:1044680]),\n",
    "    ('hume_history_chap48.txt', raw_1d[1044720:1095357]),\n",
    "    ('hume_history_chap49.txt', raw_1d[1095382:1155047]),\n",
    "    ('hume_history_chap49.txt', raw_1d[1095382:1155047]),\n",
    "    #  appendix to the reign of James I?\n",
    "]"
   ]
  },
  {
   "cell_type": "code",
   "execution_count": 46,
   "metadata": {},
   "outputs": [],
   "source": [
    "write_files(vol_1d)"
   ]
  },
  {
   "cell_type": "code",
   "execution_count": 3,
   "metadata": {},
   "outputs": [],
   "source": [
    "path = './raw/1e.txt'\n",
    "with open(path, encoding='utf8', mode='r') as f:\n",
    "    raw_1e = f.read()"
   ]
  },
  {
   "cell_type": "code",
   "execution_count": 47,
   "metadata": {},
   "outputs": [],
   "source": [
    "vol_1e =[\n",
    "    ('hume_history_chap50.txt', raw_1e[1237:69215]),\n",
    "    ('hume_history_chap51.txt', raw_1e[69240:140671]),\n",
    "    ('hume_history_chap52.txt', raw_1e[140696:210666]),\n",
    "    ('hume_history_chap53.txt', raw_1e[210691:288390]),\n",
    "    ('hume_history_chap54.txt', raw_1e[288415:398981]),\n",
    "    ('hume_history_chap55.txt', raw_1e[399006:523249]),\n",
    "    ('hume_history_chap56.txt', raw_1e[523274:618287]),\n",
    "    ('hume_history_chap57.txt', raw_1e[618312:691483]),\n",
    "    ('hume_history_chap58.txt', raw_1e[691508:760494]),\n",
    "    ('hume_history_chap59.txt', raw_1e[760519:891707]),\n",
    "    ('hume_history_chap60.txt', raw_1e[891732:1013112]),\n",
    "    ('hume_history_chap61.txt', raw_1e[1013149:1140452]),\n",
    "    ('hume_history_chap62.txt', raw_1e[1140473:1245888]),\n",
    "]"
   ]
  },
  {
   "cell_type": "code",
   "execution_count": 48,
   "metadata": {},
   "outputs": [],
   "source": [
    "write_files(vol_1e)"
   ]
  },
  {
   "cell_type": "code",
   "execution_count": 50,
   "metadata": {},
   "outputs": [],
   "source": [
    "path = './raw/1f.txt'\n",
    "with open(path, encoding='utf8', mode='r') as f:\n",
    "    raw_1f = f.read()"
   ]
  },
  {
   "cell_type": "code",
   "execution_count": 73,
   "metadata": {},
   "outputs": [],
   "source": [
    "vol_1f =[\n",
    "    ('hume_history_chap63.txt', raw_1f[996:84134]),\n",
    "    ('hume_history_chap64.txt', raw_1f[84158:184390]),\n",
    "    ('hume_history_chap65.txt', raw_1f[184426:301881]),\n",
    "    ('hume_history_chap66.txt', raw_1f[301905:413271]),\n",
    "    ('hume_history_chap67.txt', raw_1f[413295:516946]),\n",
    "    ('hume_history_chap68.txt', raw_1f[516970:597456]),\n",
    "    ('hume_history_chap69.txt', raw_1f[597480:695301]),\n",
    "    ('hume_history_chap70.txt', raw_1f[695337:804033]),\n",
    "    ('hume_history_chap71.txt', raw_1f[804057:921795]),\n",
    "]"
   ]
  },
  {
   "cell_type": "code",
   "execution_count": 74,
   "metadata": {},
   "outputs": [],
   "source": [
    "write_files(vol_1f)"
   ]
  },
  {
   "cell_type": "code",
   "execution_count": 71,
   "metadata": {},
   "outputs": [
    {
     "name": "stdout",
     "output_type": "stream",
     "text": [
      "804057\n"
     ]
    }
   ],
   "source": [
    "find_start_index(raw_1f, 'While every motive,')"
   ]
  },
  {
   "cell_type": "code",
   "execution_count": 72,
   "metadata": {},
   "outputs": [
    {
     "name": "stdout",
     "output_type": "stream",
     "text": [
      "921795\n"
     ]
    }
   ],
   "source": [
    "find_end_index(raw_1f, 'true generosity.')"
   ]
  },
  {
   "cell_type": "markdown",
   "metadata": {},
   "source": [
    "## Spot check"
   ]
  },
  {
   "cell_type": "code",
   "execution_count": 75,
   "metadata": {},
   "outputs": [],
   "source": [
    "import os"
   ]
  },
  {
   "cell_type": "code",
   "execution_count": 78,
   "metadata": {},
   "outputs": [
    {
     "name": "stdout",
     "output_type": "stream",
     "text": [
      "hume_history_chap01.txt =>  \n",
      " \n",
      "\n",
      "     \n",
      "hume_history_chap02.txt =>    \n",
      "\n",
      "     \n",
      "hume_history_chap03.txt => ed English\n",
      "hume_history_chap03_app01.txt => us manners\n",
      "hume_history_chap04.txt => bridegroom\n",
      "hume_history_chap05.txt => rn nations\n",
      "hume_history_chap06.txt => l demesnes\n",
      "hume_history_chap07.txt => ontroversy\n",
      "hume_history_chap08.txt =>  hierarchy\n",
      "hume_history_chap09.txt => e fabulous\n",
      "hume_history_chap10.txt => hat nature\n",
      "hume_history_chap11.txt => in England\n",
      "hume_history_chap11_app02.txt => nstitution\n",
      "hume_history_chap12.txt => t Carlisle\n",
      "hume_history_chap13.txt => er infancy\n",
      "hume_history_chap14.txt => f Gueldres\n",
      "hume_history_chap15.txt =>  honorable\n",
      "hume_history_chap16.txt =>  Henry III\n",
      "hume_history_chap17.txt => iscontents\n",
      "hume_history_chap18.txt =>   England.\n",
      "hume_history_chap19.txt => te princes\n",
      "hume_history_chap20.txt => confusions\n",
      "hume_history_chap21.txt => the nation\n",
      "hume_history_chap22.txt =>      ninth\n",
      "hume_history_chap23.txt => overnment.\n",
      "hume_history_chap24.txt => gainst him\n",
      "hume_history_chap25.txt => the throne\n",
      "hume_history_chap26.txt => government\n",
      "hume_history_chap27.txt => to England\n",
      "hume_history_chap28.txt => n England.\n",
      "hume_history_chap29.txt => \n",
      "\n",
      "exploded\n",
      "hume_history_chap30.txt => ent period\n",
      "hume_history_chap31.txt => ociates.[*\n",
      "hume_history_chap32.txt =>  to\n",
      "\n",
      "them.\n",
      "hume_history_chap33.txt => cal author\n",
      "hume_history_chap34.txt => uncil.[***\n",
      "hume_history_chap35.txt => ung Edward\n",
      "hume_history_chap36.txt => speech.[**\n",
      "hume_history_chap37.txt => land.[****\n",
      "hume_history_chap38.txt => emency.[*]\n",
      "hume_history_chap39.txt => avaria.[*]\n",
      "hume_history_chap40.txt => easure.[*]\n",
      "hume_history_chap41.txt => ion.”[***]\n",
      "hume_history_chap42.txt => ition.[**]\n",
      "hume_history_chap43.txt => of Philip.\n",
      "hume_history_chap44.txt =>  the copy.\n",
      "hume_history_chap45.txt => sor.[****]\n",
      "hume_history_chap46.txt => iminal.[*]\n",
      "hume_history_chap47.txt => hat of the\n",
      "hume_history_chap48.txt => defenders.\n",
      "hume_history_chap49.txt =>  boroughs.\n",
      "hume_history_chap50.txt => st France.\n",
      "hume_history_chap51.txt => and.[****]\n",
      "hume_history_chap52.txt => and state.\n",
      "hume_history_chap53.txt => ends.[***]\n",
      "hume_history_chap54.txt => f\n",
      "\n",
      "Stuart.\n",
      "hume_history_chap55.txt => e kingdom.\n",
      "hume_history_chap56.txt => anity.[**]\n",
      "hume_history_chap57.txt => us period.\n",
      "hume_history_chap58.txt => ished.[**]\n",
      "hume_history_chap59.txt =>  language.\n",
      "hume_history_chap60.txt => le person.\n",
      "hume_history_chap61.txt => yal family\n",
      "hume_history_chap62.txt => r country.\n",
      "hume_history_chap63.txt => s friends.\n",
      "hume_history_chap64.txt => t kingdom.\n",
      "hume_history_chap65.txt => ngagement.\n",
      "hume_history_chap66.txt => ate habit!\n",
      "hume_history_chap67.txt => urrection.\n",
      "hume_history_chap68.txt =>  humanity.\n",
      "hume_history_chap69.txt => appetites.\n",
      "hume_history_chap70.txt => iction.[*]\n",
      "hume_history_chap71.txt => enerosity.\n"
     ]
    }
   ],
   "source": [
    "path = './hume-history-of-england/'\n",
    "for fn in os.listdir(path):\n",
    "    with open(path + fn, encoding='utf8', mode='r') as f:\n",
    "        text = f.read()\n",
    "    end_text = text[-10:]\n",
    "    print(fn, \"=>\", end_text)"
   ]
  },
  {
   "cell_type": "code",
   "execution_count": 79,
   "metadata": {},
   "outputs": [],
   "source": [
    "with open(path + 'hume_history_chap01.txt', encoding='utf8', mode='r') as f:\n",
    "    ch1 = f.read()"
   ]
  },
  {
   "cell_type": "code",
   "execution_count": 81,
   "metadata": {},
   "outputs": [
    {
     "data": {
      "text/plain": [
       "'The curiosity entertained by all civilized nations, of inquiring into the\\n\\n      exploits and adventures of their ancestors, commonly excites a regret that\\n\\n      the history of remote ages should always be so much involved in obscurity,\\n\\n      uncer'"
      ]
     },
     "execution_count": 81,
     "metadata": {},
     "output_type": "execute_result"
    }
   ],
   "source": [
    "ch1[:250]"
   ]
  },
  {
   "cell_type": "code",
   "execution_count": null,
   "metadata": {},
   "outputs": [],
   "source": []
  }
 ],
 "metadata": {
  "kernelspec": {
   "display_name": "Python 3",
   "language": "python",
   "name": "python3"
  },
  "language_info": {
   "codemirror_mode": {
    "name": "ipython",
    "version": 3
   },
   "file_extension": ".py",
   "mimetype": "text/x-python",
   "name": "python",
   "nbconvert_exporter": "python",
   "pygments_lexer": "ipython3",
   "version": "3.8.5"
  }
 },
 "nbformat": 4,
 "nbformat_minor": 4
}
