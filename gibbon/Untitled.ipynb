{
 "cells": [
  {
   "cell_type": "code",
   "execution_count": 1,
   "metadata": {},
   "outputs": [],
   "source": [
    "import pandas as pd\n",
    "import requests\n",
    "from bs4 import BeautifulSoup"
   ]
  },
  {
   "cell_type": "code",
   "execution_count": 2,
   "metadata": {},
   "outputs": [],
   "source": [
    "df = pd.read_excel('gibbontm (1).xlsx')  # Thanks Peter!!!"
   ]
  },
  {
   "cell_type": "code",
   "execution_count": 3,
   "metadata": {},
   "outputs": [],
   "source": [
    "chap_urls = df[0].tolist()  # the column for urls is labeled 0"
   ]
  },
  {
   "cell_type": "code",
   "execution_count": 4,
   "metadata": {},
   "outputs": [],
   "source": [
    "def make_file_name(url, num):\n",
    "    l = url.split('/')\n",
    "    auth = l[4]\n",
    "    title = l[5]\n",
    "    vol = l[6]\n",
    "    chap = 'chap' + str(num).zfill(2)  # there must be a better way to do this\n",
    "    ext = '.txt'\n",
    "    file_name = auth + '_' + title + '_' + vol + '_' + chap + ext\n",
    "    return file_name"
   ]
  },
  {
   "cell_type": "code",
   "execution_count": 5,
   "metadata": {},
   "outputs": [],
   "source": [
    "def get_text(url):\n",
    "    response = requests.get(url)\n",
    "    html = response.text\n",
    "    soup = BeautifulSoup(html, 'html.parser')\n",
    "    paras = []\n",
    "    for para in soup.find_all('p'):\n",
    "        text = para.get_text()\n",
    "        paras.append(text)\n",
    "    return ' '.join(paras)"
   ]
  },
  {
   "cell_type": "code",
   "execution_count": 6,
   "metadata": {},
   "outputs": [],
   "source": [
    "nums = range(1, len(chap_urls) + 1)\n",
    "for url, num in zip(chap_urls, nums):\n",
    "    file_name = make_file_name(url, num)\n",
    "    text = get_text(url)\n",
    "    with open('./gibbon_decline_and_fall/' + file_name, encoding='utf8', mode='w') as f:\n",
    "        f.write(text)"
   ]
  }
 ],
 "metadata": {
  "kernelspec": {
   "display_name": "Python 3",
   "language": "python",
   "name": "python3"
  },
  "language_info": {
   "codemirror_mode": {
    "name": "ipython",
    "version": 3
   },
   "file_extension": ".py",
   "mimetype": "text/x-python",
   "name": "python",
   "nbconvert_exporter": "python",
   "pygments_lexer": "ipython3",
   "version": "3.8.5"
  }
 },
 "nbformat": 4,
 "nbformat_minor": 4
}
